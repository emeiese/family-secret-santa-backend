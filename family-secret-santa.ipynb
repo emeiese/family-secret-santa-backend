{
 "cells": [
  {
   "cell_type": "code",
   "execution_count": 2,
   "metadata": {},
   "outputs": [
    {
     "ename": "ImportError",
     "evalue": "cannot import name 'LpProblem' from 'pulp' (unknown location)",
     "output_type": "error",
     "traceback": [
      "\u001b[0;31m---------------------------------------------------------------------------\u001b[0m",
      "\u001b[0;31mImportError\u001b[0m                               Traceback (most recent call last)",
      "\u001b[0;32m<ipython-input-2-1e50eccafca4>\u001b[0m in \u001b[0;36m<module>\u001b[0;34m\u001b[0m\n\u001b[1;32m      1\u001b[0m \u001b[0;32mfrom\u001b[0m \u001b[0mparameters\u001b[0m \u001b[0;32mimport\u001b[0m \u001b[0mfamily_dict\u001b[0m\u001b[0;34m,\u001b[0m \u001b[0mpeople_list\u001b[0m\u001b[0;34m,\u001b[0m \u001b[0mpeople_cost\u001b[0m\u001b[0;34m,\u001b[0m \u001b[0mpossible_pairs\u001b[0m\u001b[0;34m\u001b[0m\u001b[0;34m\u001b[0m\u001b[0m\n\u001b[0;32m----> 2\u001b[0;31m \u001b[0;32mfrom\u001b[0m \u001b[0mfunctions\u001b[0m \u001b[0;32mimport\u001b[0m \u001b[0msolve_fss\u001b[0m\u001b[0;34m\u001b[0m\u001b[0;34m\u001b[0m\u001b[0m\n\u001b[0m",
      "\u001b[0;32m~/Documents/Personales/Coding Proyects/family-secret-santa-backend/functions.py\u001b[0m in \u001b[0;36m<module>\u001b[0;34m\u001b[0m\n\u001b[1;32m      2\u001b[0m \u001b[0;32mimport\u001b[0m \u001b[0mpandas\u001b[0m \u001b[0;32mas\u001b[0m \u001b[0mpd\u001b[0m\u001b[0;34m\u001b[0m\u001b[0;34m\u001b[0m\u001b[0m\n\u001b[1;32m      3\u001b[0m \u001b[0;34m\u001b[0m\u001b[0m\n\u001b[0;32m----> 4\u001b[0;31m \u001b[0;32mfrom\u001b[0m \u001b[0mpulp\u001b[0m \u001b[0;32mimport\u001b[0m \u001b[0mLpProblem\u001b[0m\u001b[0;34m,\u001b[0m \u001b[0mlpSum\u001b[0m\u001b[0;34m,\u001b[0m \u001b[0mLpVariable\u001b[0m\u001b[0;34m,\u001b[0m \u001b[0mLpMinimize\u001b[0m\u001b[0;34m,\u001b[0m \u001b[0mLpStatus\u001b[0m\u001b[0;34m,\u001b[0m \u001b[0mvalue\u001b[0m\u001b[0;34m\u001b[0m\u001b[0;34m\u001b[0m\u001b[0m\n\u001b[0m\u001b[1;32m      5\u001b[0m \u001b[0;32mfrom\u001b[0m \u001b[0mrandom\u001b[0m \u001b[0;32mimport\u001b[0m \u001b[0mshuffle\u001b[0m\u001b[0;34m\u001b[0m\u001b[0;34m\u001b[0m\u001b[0m\n\u001b[1;32m      6\u001b[0m \u001b[0;34m\u001b[0m\u001b[0m\n",
      "\u001b[0;31mImportError\u001b[0m: cannot import name 'LpProblem' from 'pulp' (unknown location)"
     ]
    }
   ],
   "source": [
    "from parameters import family_dict, people_list, people_cost, possible_pairs\n",
    "from functions import solve_fss"
   ]
  },
  {
   "cell_type": "code",
   "execution_count": null,
   "metadata": {},
   "outputs": [],
   "source": [
    "problem = solve_fss(family_dict, people_list, people_cost, possible_pairs)\n",
    "pairs = problem['solution']\n",
    "\n",
    "childs = people_list.copy()\n",
    "santas = people_list.copy()\n",
    "for tup in possible_pairs:\n",
    "    if pairs[tup].value():\n",
    "        santas.remove(tup[1])\n",
    "        childs.remove(tup[1])\n",
    "        print(f\"{tup[0]} makes a gift to {tup[1]}\")\n",
    "if not childs and not santas:\n",
    "    print(\"Hoorray! All of you have secret santas :)\")\n"
   ]
  },
  {
   "cell_type": "code",
   "execution_count": null,
   "metadata": {},
   "outputs": [],
   "source": []
  }
 ],
 "metadata": {
  "kernelspec": {
   "display_name": "Python 3",
   "language": "python",
   "name": "python3"
  },
  "language_info": {
   "codemirror_mode": {
    "name": "ipython",
    "version": 3
   },
   "file_extension": ".py",
   "mimetype": "text/x-python",
   "name": "python",
   "nbconvert_exporter": "python",
   "pygments_lexer": "ipython3",
   "version": "3.8.10"
  },
  "vscode": {
   "interpreter": {
    "hash": "31f2aee4e71d21fbe5cf8b01ff0e069b9275f58929596ceb00d14d90e3e16cd6"
   }
  }
 },
 "nbformat": 4,
 "nbformat_minor": 4
}
