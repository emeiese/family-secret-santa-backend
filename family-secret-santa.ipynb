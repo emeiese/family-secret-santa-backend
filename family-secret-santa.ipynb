{
 "cells": [
  {
   "cell_type": "code",
   "execution_count": null,
   "metadata": {},
   "outputs": [],
   "source": [
    "from numpy.random import randint\n",
    "from pandas import DataFrame\n",
    "from parameters import family_dict, people_list\n",
    "from functions import solve_fss"
   ]
  },
  {
   "cell_type": "code",
   "execution_count": null,
   "metadata": {},
   "outputs": [],
   "source": [
    "# Set some random costs between people: \n",
    "#  you can comment this line and uncomment the other one to have equal costs for everybody\n",
    "people_cost = DataFrame(randint(-2, high=1, size=(len(people_list), len(people_list))), index=people_list, columns=people_list)\n",
    "# people_cost = DataFrame(-1, index=people_list, columns=people_list)\n",
    "\n",
    "# You can also set costs between people (in case you don't want them to make gifts to each other):\n",
    "# For example:\n",
    "people_cost.loc[('Father (F1)', 'Father (F2)')] = 10\n",
    "people_cost.loc[('Son 1 (F1)', 'Daughter 1 (F2)')] = 10"
   ]
  },
  {
   "cell_type": "code",
   "execution_count": null,
   "metadata": {},
   "outputs": [],
   "source": [
    "problem = solve_fss(family_dict, people_cost)\n",
    "pairs = problem['solution']\n",
    "\n",
    "childs = people_list.copy()\n",
    "santas = people_list.copy()\n",
    "for tup in pairs.keys():\n",
    "    if pairs[tup].value():\n",
    "        santas.remove(tup[0])\n",
    "        childs.remove(tup[1])\n",
    "        print(f\"{tup[0]} makes a gift to {tup[1]}\")\n",
    "\n",
    "if not childs and not santas:\n",
    "    print(\"\\nHoorray! All of you have secret santas :)\")\n"
   ]
  }
 ],
 "metadata": {
  "kernelspec": {
   "display_name": "Python 3",
   "language": "python",
   "name": "python3"
  },
  "language_info": {
   "codemirror_mode": {
    "name": "ipython",
    "version": 3
   },
   "file_extension": ".py",
   "mimetype": "text/x-python",
   "name": "python",
   "nbconvert_exporter": "python",
   "pygments_lexer": "ipython3",
   "version": "3.8.10"
  },
  "vscode": {
   "interpreter": {
    "hash": "31f2aee4e71d21fbe5cf8b01ff0e069b9275f58929596ceb00d14d90e3e16cd6"
   }
  }
 },
 "nbformat": 4,
 "nbformat_minor": 4
}
